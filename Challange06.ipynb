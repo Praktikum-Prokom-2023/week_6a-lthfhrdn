{
 "cells": [
  {
   "attachments": {},
   "cell_type": "markdown",
   "metadata": {},
   "source": [
    "1. Tampilkan isi dari list secara terbalik menggunakan built.in function"
   ]
  },
  {
   "cell_type": "code",
   "execution_count": 3,
   "metadata": {},
   "outputs": [
    {
     "name": "stdout",
     "output_type": "stream",
     "text": [
      "['d', 'c', 'b', 'a']\n"
     ]
    }
   ],
   "source": [
    "alph = [\"a\",\"b\",\"c\",\"d\"]\n",
    "\n",
    "fungsiterbalik = sorted(alph, reverse=True)\n",
    "print(fungsiterbalik)"
   ]
  },
  {
   "attachments": {},
   "cell_type": "markdown",
   "metadata": {},
   "source": [
    "2. Tulis sebuah fungsi yang menerima dua argumen dan mengembalikan True jika nilai pertama lebih besar dari yang kedua. False jika kurang dari atau sama dengan yang kedua"
   ]
  },
  {
   "cell_type": "code",
   "execution_count": 1,
   "metadata": {},
   "outputs": [
    {
     "name": "stdout",
     "output_type": "stream",
     "text": [
      "False\n",
      "True\n",
      "False\n"
     ]
    }
   ],
   "source": [
    "def perbandingan(nilai1,nilai2):\n",
    "    if nilai1>nilai2:\n",
    "        return True\n",
    "    elif nilai1<=nilai2:\n",
    "        return False\n",
    "    \n",
    "print(perbandingan(2,2))\n",
    "print(perbandingan(100,40))\n",
    "print(perbandingan(6,90))"
   ]
  }
 ],
 "metadata": {
  "kernelspec": {
   "display_name": "Python 3",
   "language": "python",
   "name": "python3"
  },
  "language_info": {
   "codemirror_mode": {
    "name": "ipython",
    "version": 3
   },
   "file_extension": ".py",
   "mimetype": "text/x-python",
   "name": "python",
   "nbconvert_exporter": "python",
   "pygments_lexer": "ipython3",
   "version": "3.11.2"
  },
  "orig_nbformat": 4
 },
 "nbformat": 4,
 "nbformat_minor": 2
}
